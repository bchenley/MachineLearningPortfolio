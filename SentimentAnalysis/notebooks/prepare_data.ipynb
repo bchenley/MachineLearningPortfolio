{
  "cells": [
    {
      "cell_type": "markdown",
      "metadata": {
        "id": "r1yBXHqaCuqn"
      },
      "source": [
        "Clone Repo"
      ]
    },
    {
      "cell_type": "code",
      "execution_count": 1,
      "metadata": {},
      "outputs": [
        {
          "name": "stdout",
          "output_type": "stream",
          "text": [
            "remote: Enumerating objects: 9, done.\u001b[K\n",
            "remote: Counting objects: 100% (9/9), done.\u001b[K\n",
            "remote: Compressing objects: 100% (5/5), done.\u001b[K\n",
            "remote: Total 5 (delta 4), reused 0 (delta 0), pack-reused 0\u001b[K\n",
            "Unpacking objects: 100% (5/5), 809 bytes | 202.00 KiB/s, done.\n",
            "From https://github.com/bchenley/MachineLearningPortfolio\n",
            "   2946c17..bbffdfc  main       -> origin/main\n",
            "Updating 2946c17..bbffdfc\n",
            "Fast-forward\n",
            " SentimentAnalysis/src/TextPreprocessor.py | 2 \u001b[32m+\u001b[m\u001b[31m-\u001b[m\n",
            " 1 file changed, 1 insertion(+), 1 deletion(-)\n"
          ]
        }
      ],
      "source": [
        "import os \n",
        "\n",
        "# Define the directory where you want to check for the existence of a file\n",
        "dir_path = 'MachineLearningPortfolio'\n",
        "\n",
        "if os.path.exists(dir_path):\n",
        "    os.chdir(dir_path)\n",
        "    !git pull origin\n",
        "else:\n",
        "    !git clone https://github.com/bchenley/MachineLearningPortfolio.git"
      ]
    },
    {
      "cell_type": "markdown",
      "metadata": {},
      "source": [
        "Change working directory to `SentimentAnalysis`"
      ]
    },
    {
      "cell_type": "code",
      "execution_count": 2,
      "metadata": {},
      "outputs": [
        {
          "name": "stdout",
          "output_type": "stream",
          "text": [
            "/Users/brandonhenley/Library/CloudStorage/GoogleDrive-henley.brandon@gmail.com/My Drive/MLProjects/SentimentAnalysis_IMDB/notebooks/MachineLearningPortfolio/SentimentAnalysis\n"
          ]
        }
      ],
      "source": [
        "cd SentimentAnalysis/"
      ]
    },
    {
      "cell_type": "markdown",
      "metadata": {},
      "source": [
        "Install requirements"
      ]
    },
    {
      "cell_type": "code",
      "execution_count": null,
      "metadata": {},
      "outputs": [],
      "source": [
        "pip install -r requirements.txt"
      ]
    },
    {
      "cell_type": "code",
      "execution_count": 3,
      "metadata": {
        "id": "ikwHI_k98vWh"
      },
      "outputs": [],
      "source": [
        "import os\n",
        "\n",
        "import numpy as np\n",
        "import pandas as pd\n",
        "\n",
        "import sklearn\n",
        "import torch\n",
        "\n",
        "import zipfile"
      ]
    },
    {
      "cell_type": "markdown",
      "metadata": {},
      "source": [
        "Import relevant modules. In this notebook we need `unzip` to unzip the dataset zipfile and `TextPreprocessor` to preprocess all the reviews."
      ]
    },
    {
      "cell_type": "code",
      "execution_count": 4,
      "metadata": {
        "colab": {
          "base_uri": "https://localhost:8080/"
        },
        "id": "PDm6FOQiEW4T",
        "outputId": "f5a2b751-e7ad-421a-e1d0-286dbcedaba8"
      },
      "outputs": [],
      "source": [
        "from src import unzip, TextPreprocessor"
      ]
    },
    {
      "cell_type": "markdown",
      "metadata": {
        "id": "YI9kBX95_K1b"
      },
      "source": [
        "Unzip File. Change `data_path` to the path to the zipfile saved on your computer. The `IMDB Dataset.csv` will load into the currrent working directory, unless you specificy `sink` in `unzip`."
      ]
    },
    {
      "cell_type": "code",
      "execution_count": 5,
      "metadata": {
        "id": "I5Oc9qrhEf69"
      },
      "outputs": [],
      "source": [
        "sink = os.getcwd()\n",
        "source = '/Users/brandonhenley/Library/CloudStorage/GoogleDrive-henley.brandon@gmail.com/My Drive/MLProjects/SentimentAnalysis_IMDB/data/archive.zip'\n",
        "unzip(source, sink)\n"
      ]
    },
    {
      "cell_type": "markdown",
      "metadata": {
        "id": "wi26hvMNGHTR"
      },
      "source": [
        "Load data into a DataFrame"
      ]
    },
    {
      "cell_type": "code",
      "execution_count": 6,
      "metadata": {
        "id": "s0vPTUJJCE0f"
      },
      "outputs": [],
      "source": [
        "imdb = pd.read_csv(os.path.join(sink, 'IMDB Dataset.csv'))"
      ]
    },
    {
      "cell_type": "markdown",
      "metadata": {},
      "source": [
        "Basic parameters of dataset"
      ]
    },
    {
      "cell_type": "code",
      "execution_count": 30,
      "metadata": {
        "colab": {
          "base_uri": "https://localhost:8080/"
        },
        "id": "3fYsDhXFHxE_",
        "outputId": "69cad470-fde2-44cb-b074-cf1d3687c342"
      },
      "outputs": [
        {
          "name": "stdout",
          "output_type": "stream",
          "text": [
            "Total number of reviews = 50000.\n",
            "Total number of positive reviews = 25000.\n",
            "Total number of negative reviews = 25000.\n"
          ]
        }
      ],
      "source": [
        "total_reviews = imdb.shape[0]\n",
        "\n",
        "num_positive_reviews = sum(imdb['sentiment'] == 'positive')\n",
        "num_negative_reviews = sum(imdb['sentiment'] == 'negative')\n",
        "\n",
        "print(f\"Total number of reviews = {total_reviews}.\")\n",
        "print(f\"Total number of positive reviews = {num_positive_reviews}.\")\n",
        "print(f\"Total number of negative reviews = {num_negative_reviews}.\")"
      ]
    },
    {
      "cell_type": "markdown",
      "metadata": {
        "id": "pzb-Z0g3GGTM"
      },
      "source": [
        "Print a few positive and negative reviews."
      ]
    },
    {
      "cell_type": "code",
      "execution_count": 31,
      "metadata": {
        "id": "SrbEpiBCHMZI"
      },
      "outputs": [],
      "source": [
        "idx_4_positive_reviews = np.where(imdb['sentiment'] == 'positive')[0][np.random.choice(num_positive_reviews-1, size=4, replace=False)]\n",
        "idx_4_negative_reviews = np.where(imdb['sentiment'] == 'negative')[0][np.random.choice(num_negative_reviews-1, size=4, replace=False)]"
      ]
    },
    {
      "cell_type": "code",
      "execution_count": 32,
      "metadata": {
        "colab": {
          "base_uri": "https://localhost:8080/"
        },
        "id": "VAvk1wsAGsrW",
        "outputId": "94ee0088-52ee-4e6f-c0ca-35035250088d"
      },
      "outputs": [
        {
          "name": "stdout",
          "output_type": "stream",
          "text": [
            "Positive Reviews\n",
            "Review 37771: I absolutely loved this movie. I bought it as soon as I could find a copy of it. This movie had so much emotion, and felt so real, I could really sympathize with the characters. Every time I watch it, the ending makes me cry. I can really identify with Busy Phillip's character, and how I would feel if the same thing had happened to me.<br /><br />I think that all high schools should show this movie, maybe it will keep people from wanting to do the same thing. I recommend this movie to everybody and anybody. Especially those who have been affected by any school shooting.<br /><br />It truly is one of the greatest movies of all time.\n",
            "Review 42280: You have GOT to see this movie... I saw it, as a 13 year old, at the theater, on my very first date... Fast forward over 20 years and I'm now gay (Thanks a lot One Dark Night!! LOL!). This movie creeped the hell out of me as a kid (mausoleums still do!), but as an adult, the thrill of this movie isn't in the storyline, but rather the hysterical laughs it holds... Highlights are listening to the names the teenagers call each other, from \"nerdlebrain\" (my personal favorite) to \"turkey\". Also, keep your eyes peeled for the scene where Carol (the blond, head sister) attempts to hang her phone up on a soda can (can't believe they didn't reshoot that!)... Other highlights include Adam West's overly dramatic outbursts and the gooey corpses. If you're a fan of true horror, I'd suggest this film just because, to me, it's almost a parody on horror. There is def. a creepy factor and the plot is a good one, but don't watch it if you want to be scared out of your wits (unless you're like 10 years old or something).\n",
            "Review 21389: SPOILERS <br /><br />As you may know, I have been commenting on a lot of silent short films in the past months. Now, I have no idea why I am commenting on Steamboat Willie, I guess I was just desperate to comment on anything, so I watched this, and now I am commenting on it. This, or course, is one of the very first cartoons, and I believe it is not the first cartoon with sound. <br /><br />Here is the plot. Mickey Mouse is driving a steamboat when Pete throws him off and he drives it. When they stop for cargo Minnie Mouse tried to get on but failed miserably. Mickey gets her up by a crane. Then a goat eats her sheet of paper with Turkey in the Straw on it. They use the goat to make the song. When I say that I mean that they used the goat as a Victrola. Mickey plays the animals on the steamboat for instruments to the song. Then an angry Pete throws Mickey in a potato room and Mickey is forced to peel potatoes for the rest of the day.<br /><br />Overall, this is yet another groundbreaking silent short film. I mean, this is the third Mickey Mouse cartoon. Yes, the third. Also, this is not the first cartoon with sound. I believe there were two more before this one. Either way, this film is really, really groundbreaking. Mikcey was also more violent than he is mow. I mean, he throws a potato at a bird and may have brutally slaughtered it. <br /><br />9/10<br /><br />Recommended Films: Plane Crazy.\n",
            "Review 35550: Fame is one of the best movies I've seen about The Performing Arts. The music and the acting are excellent. The screenplay and Set Design are also excellent. My favorite part is when all the students start Dancing and making music in the Canteen. I can see this movie any number of times, and never get bored. I give it 8 1/2 on 10.\n"
          ]
        }
      ],
      "source": [
        "print(f\"Positive Reviews\")\n",
        "for i,review in enumerate(imdb.iloc[idx_4_positive_reviews, 0]):\n",
        "  print(f\"Review {idx_4_positive_reviews[i]}: {review}\")\n"
      ]
    },
    {
      "cell_type": "code",
      "execution_count": 33,
      "metadata": {
        "colab": {
          "base_uri": "https://localhost:8080/"
        },
        "id": "luiBK72rJYac",
        "outputId": "e921bb4d-09f3-4adc-8f92-47901a4b3307"
      },
      "outputs": [
        {
          "name": "stdout",
          "output_type": "stream",
          "text": [
            "Negative Reviews\n",
            "Review 31529: I saw it on video. Predictable, horrid acting, film flubs. What more can be said, this movie sucks. The actors are annoying to say the least. This was suppose to be a comedy, but there was only one funny moment, other than that is was painful to watch for me.<br /><br />1 out of 10. PASS!\n",
            "Review 31166: After watching about half of this I was ready to give up and turn it off, but I endured to the end. This is a movie that tries to be a romantic comedy and fails. The acting is poor---much worse than the acting in 80s T&A movies.<br /><br />There are several attempts at humour that fail miserably and the movie is 100% predictable. Perhaps if you are a teenager this movie will hold some appeal, but for those that have seen many movies, you will know how the film turns out after the first 10 minutes. The rest of your time will be spent in agony waiting for the ending credits to roll.<br /><br />Don't waste your time watching this.\n",
            "Review 20783: ...and that's saying something. No matter how bad a movie gets, I'm normally able to sit through it so I can judge the full movie. Through this one, I made it about 20 minutes.<br /><br />Maybe it was the DVD, or maybe it was my laptop, but I could not hear the dialogue, even with the volume turned all the way up. Sound effects were fine, so with the volume turned up to hear the dialogue, I was blowing out my eardrums with the effects. As much as I wanted to see this thing through, I wasn't going to sacrifice my hearing for it.<br /><br />From what little I could tell about the plot, the movie was one big flashback by the main character's daughter. It seems the mother, a military pilot, had to flee her ship because the one person on her ship she trusted turned out to be one of the enemy and now he is pursuing her across a desert planet.<br /><br />The only thing I liked about the movie was the look of the main character; there was something I liked about her hairstyle.<br /><br />Oh well, looks like this one is going into the dumpster...\n",
            "Review 40213: I first heard of this film when Patton Oswalt talked about it on his \"Werewolves and Lollipops\" CD. He said it was a lost classic that is completely ridiculous. Being a lover of terrible cinema, I knew I was in for a treat.<br /><br />This film is, hands down, one of the weirdest I've ever seen. Certainly one of the weirdest shlock films. Basically, a demon took human form years ago for a woman, the woman died or something, the demon cried blood, the blood fell on the bed, the bed is now possessed and it now eats. Along with fruit, flowers and chicken, it also has a taste for people. The people can range between horny teens, mayors, gangsters, servants or professional orgy throwers. There's also a sick guy who the bed ate but put his soul behind a picture in the room.<br /><br />Most movies let you figure out the plot through exciting action. Death Bed takes another path: it basically tells you through narration exactly what's happening while slow, dull murder scenes take place. Also, I must say everyone who's eaten by the bed are surprisingly quiet. I would think if a bed is eating you through the ways of a 5th grade science fair experiment, it would sting a little. I guess nerve endings weren't invented until 1981 or so.<br /><br />The story is wacky, the direction is slow and pretty awful, the sets are sparse, the acting it fairly painful and the brother is one of the unintentionally ugliest actors I've ever seen. Probably would make a great party film if alcohol and smart-asses are involved. Certainly one you shouldn't miss.\n"
          ]
        }
      ],
      "source": [
        "print(f\"Negative Reviews\")\n",
        "for i,review in enumerate(imdb.iloc[idx_4_negative_reviews, 0]):\n",
        "  print(f\"Review {idx_4_negative_reviews[i]}: {review}\")\n"
      ]
    },
    {
      "cell_type": "markdown",
      "metadata": {
        "id": "z_J5dw8ZJhho"
      },
      "source": [
        "Preprocessing"
      ]
    },
    {
      "cell_type": "code",
      "execution_count": 8,
      "metadata": {},
      "outputs": [],
      "source": [
        "# Instantiate TextPreprocessor\n",
        "tp = TextPreprocessor()"
      ]
    },
    {
      "cell_type": "code",
      "execution_count": 15,
      "metadata": {},
      "outputs": [
        {
          "data": {
            "text/html": [
              "<div>\n",
              "<style scoped>\n",
              "    .dataframe tbody tr th:only-of-type {\n",
              "        vertical-align: middle;\n",
              "    }\n",
              "\n",
              "    .dataframe tbody tr th {\n",
              "        vertical-align: top;\n",
              "    }\n",
              "\n",
              "    .dataframe thead th {\n",
              "        text-align: right;\n",
              "    }\n",
              "</style>\n",
              "<table border=\"1\" class=\"dataframe\">\n",
              "  <thead>\n",
              "    <tr style=\"text-align: right;\">\n",
              "      <th></th>\n",
              "      <th>review</th>\n",
              "      <th>sentiment</th>\n",
              "      <th>review_p</th>\n",
              "    </tr>\n",
              "  </thead>\n",
              "  <tbody>\n",
              "    <tr>\n",
              "      <th>0</th>\n",
              "      <td>One of the other reviewers has mentioned that ...</td>\n",
              "      <td>positive</td>\n",
              "      <td>one of the other reviewers has mentioned that ...</td>\n",
              "    </tr>\n",
              "    <tr>\n",
              "      <th>1</th>\n",
              "      <td>A wonderful little production. &lt;br /&gt;&lt;br /&gt;The...</td>\n",
              "      <td>positive</td>\n",
              "      <td>a wonderful little production the filming tech...</td>\n",
              "    </tr>\n",
              "    <tr>\n",
              "      <th>2</th>\n",
              "      <td>I thought this was a wonderful way to spend ti...</td>\n",
              "      <td>positive</td>\n",
              "      <td>i thought this was a wonderful way to spend ti...</td>\n",
              "    </tr>\n",
              "    <tr>\n",
              "      <th>3</th>\n",
              "      <td>Basically there's a family where a little boy ...</td>\n",
              "      <td>negative</td>\n",
              "      <td>basically there is a family where a little boy...</td>\n",
              "    </tr>\n",
              "    <tr>\n",
              "      <th>4</th>\n",
              "      <td>Petter Mattei's \"Love in the Time of Money\" is...</td>\n",
              "      <td>positive</td>\n",
              "      <td>petter matteis love in the time of money is a ...</td>\n",
              "    </tr>\n",
              "    <tr>\n",
              "      <th>...</th>\n",
              "      <td>...</td>\n",
              "      <td>...</td>\n",
              "      <td>...</td>\n",
              "    </tr>\n",
              "    <tr>\n",
              "      <th>49995</th>\n",
              "      <td>I thought this movie did a down right good job...</td>\n",
              "      <td>positive</td>\n",
              "      <td>i thought this movie did a down right good job...</td>\n",
              "    </tr>\n",
              "    <tr>\n",
              "      <th>49996</th>\n",
              "      <td>Bad plot, bad dialogue, bad acting, idiotic di...</td>\n",
              "      <td>negative</td>\n",
              "      <td>bad plot bad dialogue bad acting idiotic direc...</td>\n",
              "    </tr>\n",
              "    <tr>\n",
              "      <th>49997</th>\n",
              "      <td>I am a Catholic taught in parochial elementary...</td>\n",
              "      <td>negative</td>\n",
              "      <td>i am a catholic taught in parochial elementary...</td>\n",
              "    </tr>\n",
              "    <tr>\n",
              "      <th>49998</th>\n",
              "      <td>I'm going to have to disagree with the previou...</td>\n",
              "      <td>negative</td>\n",
              "      <td>i am going to have to disagree with the previo...</td>\n",
              "    </tr>\n",
              "    <tr>\n",
              "      <th>49999</th>\n",
              "      <td>No one expects the Star Trek movies to be high...</td>\n",
              "      <td>negative</td>\n",
              "      <td>no one expects the star trek movies to be high...</td>\n",
              "    </tr>\n",
              "  </tbody>\n",
              "</table>\n",
              "<p>50000 rows × 3 columns</p>\n",
              "</div>"
            ],
            "text/plain": [
              "                                                  review sentiment  \\\n",
              "0      One of the other reviewers has mentioned that ...  positive   \n",
              "1      A wonderful little production. <br /><br />The...  positive   \n",
              "2      I thought this was a wonderful way to spend ti...  positive   \n",
              "3      Basically there's a family where a little boy ...  negative   \n",
              "4      Petter Mattei's \"Love in the Time of Money\" is...  positive   \n",
              "...                                                  ...       ...   \n",
              "49995  I thought this movie did a down right good job...  positive   \n",
              "49996  Bad plot, bad dialogue, bad acting, idiotic di...  negative   \n",
              "49997  I am a Catholic taught in parochial elementary...  negative   \n",
              "49998  I'm going to have to disagree with the previou...  negative   \n",
              "49999  No one expects the Star Trek movies to be high...  negative   \n",
              "\n",
              "                                                review_p  \n",
              "0      one of the other reviewers has mentioned that ...  \n",
              "1      a wonderful little production the filming tech...  \n",
              "2      i thought this was a wonderful way to spend ti...  \n",
              "3      basically there is a family where a little boy...  \n",
              "4      petter matteis love in the time of money is a ...  \n",
              "...                                                  ...  \n",
              "49995  i thought this movie did a down right good job...  \n",
              "49996  bad plot bad dialogue bad acting idiotic direc...  \n",
              "49997  i am a catholic taught in parochial elementary...  \n",
              "49998  i am going to have to disagree with the previo...  \n",
              "49999  no one expects the star trek movies to be high...  \n",
              "\n",
              "[50000 rows x 3 columns]"
            ]
          },
          "execution_count": 15,
          "metadata": {},
          "output_type": "execute_result"
        }
      ],
      "source": [
        "imdb"
      ]
    },
    {
      "cell_type": "code",
      "execution_count": 14,
      "metadata": {},
      "outputs": [],
      "source": [
        "# Fit and transform reviews\n",
        "tp.fit(imdb['review'].tolist())\n",
        "review_p = tp.transform(imdb['review'].tolist())"
      ]
    },
    {
      "cell_type": "code",
      "execution_count": 16,
      "metadata": {},
      "outputs": [],
      "source": [
        "# Creata new DataFrame with labeled preprocessed data\n",
        "imdb_p = pd.DataFrame({'review': review_p})\n",
        "imdb_p['sentiment'] = imdb['sentiment']"
      ]
    }
  ],
  "metadata": {
    "colab": {
      "provenance": []
    },
    "kernelspec": {
      "display_name": "IK Environment",
      "language": "python",
      "name": "ikenv"
    },
    "language_info": {
      "codemirror_mode": {
        "name": "ipython",
        "version": 3
      },
      "file_extension": ".py",
      "mimetype": "text/x-python",
      "name": "python",
      "nbconvert_exporter": "python",
      "pygments_lexer": "ipython3",
      "version": "3.10.9"
    }
  },
  "nbformat": 4,
  "nbformat_minor": 0
}
